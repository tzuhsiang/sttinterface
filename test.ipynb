{
 "cells": [
  {
   "cell_type": "code",
   "execution_count": 1,
   "metadata": {},
   "outputs": [],
   "source": [
    "import subprocess\n",
    "import json\n",
    "import os"
   ]
  },
  {
   "cell_type": "code",
   "execution_count": 2,
   "metadata": {},
   "outputs": [],
   "source": [
    "audio_path=\"uploads/howtobehappy.m4a\"\n",
    "whisper_path = \"/opt/homebrew/bin/whisper\"\n",
    "ffmpeg_path = \"/opt/homebrew/bin/ffmpeg\""
   ]
  },
  {
   "cell_type": "code",
   "execution_count": 3,
   "metadata": {},
   "outputs": [],
   "source": [
    "# 設定環境變數，確保 subprocess 找得到 ffmpeg\n",
    "env = os.environ.copy()\n",
    "env[\"PATH\"] += os.pathsep + \"/opt/homebrew/bin\""
   ]
  },
  {
   "cell_type": "code",
   "execution_count": 4,
   "metadata": {},
   "outputs": [],
   "source": [
    "# 執行 Whisper 命令行工具\n",
    "result = subprocess.run(\n",
    "    [whisper_path, audio_path, \"--model\", \"medium\", \"--output_format\", \"json\"],\n",
    "    capture_output=True,\n",
    "    text=True,\n",
    "    env=env\n",
    ")"
   ]
  },
  {
   "cell_type": "code",
   "execution_count": 64,
   "metadata": {},
   "outputs": [],
   "source": [
    "text=result.stdout"
   ]
  },
  {
   "cell_type": "code",
   "execution_count": 69,
   "metadata": {},
   "outputs": [],
   "source": [
    "content = text.split(\"\\n\")"
   ]
  },
  {
   "cell_type": "code",
   "execution_count": 72,
   "metadata": {},
   "outputs": [],
   "source": [
    "with open(\"data.json\", \"w\", encoding=\"utf-8\") as f:\n",
    "    json.dump(content, f, ensure_ascii=False, indent=4)"
   ]
  },
  {
   "cell_type": "code",
   "execution_count": null,
   "metadata": {},
   "outputs": [],
   "source": []
  },
  {
   "cell_type": "code",
   "execution_count": 53,
   "metadata": {},
   "outputs": [],
   "source": [
    "# 指定 JSON 檔案路徑\n",
    "json_file_path = \"howtobehappy.json\"  # 替換為你的 JSON 檔案\n",
    "\n",
    "# 讀取 JSON 檔案\n",
    "with open(json_file_path, \"r+\", encoding=\"utf-8\") as json_file:\n",
    "    data = json.load(json_file)\n",
    "    json.dump(data, json_file, ensure_ascii=False, indent=4)\n",
    "\n",
    "\n",
    "content=data[\"text\"]\n"
   ]
  },
  {
   "cell_type": "code",
   "execution_count": 71,
   "metadata": {},
   "outputs": [
    {
     "name": "stdout",
     "output_type": "stream",
     "text": [
      "Detecting language using up to the first 30 seconds. Use `--language` to specify the language\n",
      "Detected language: Chinese\n",
      "[00:00.000 --> 00:06.000] 如何走出自我內耗,承認自己的情緒\n",
      "[00:06.000 --> 00:12.000] 生氣是正常的,委屈是應該的,不爽要表達,難說要說出來\n",
      "[00:12.000 --> 00:16.000] 學會表達,不好的表達\n",
      "[00:16.000 --> 00:20.000] 你們天天改需求煩不煩啊,好的表達\n",
      "[00:20.000 --> 00:24.000] 這個需求改動比較大,能不能先確定具體方案\n",
      "[00:24.000 --> 00:28.000] 去找合適的方式\n",
      "[00:28.000 --> 00:32.000] 對於敏感的問題,約個晚安晚,溝通\n",
      "[00:32.000 --> 00:36.000] 對於一個公開問題,在座會上提出來\n",
      "[00:36.000 --> 00:40.000] 對於複雜問題,寫個文檔,說明清楚\n",
      "[00:40.000 --> 00:44.000] 對於情緒問題,找合適的人,傾訴\n",
      "[00:44.000 --> 00:48.000] 一些小建議,遇到問題\n",
      "[00:48.000 --> 00:52.000] 先問問自己為什麼不開心,期望的是什麼\n",
      "[00:52.000 --> 00:56.000] 怎麼說對方才能聽進去,有什麼更好的解決方案\n",
      "[00:56.000 --> 01:00.000] 然後深呼吸,整理思路,找個合適的時機\n",
      "[01:00.000 --> 01:02.000] 好好說出來\n",
      "\n"
     ]
    }
   ],
   "source": [
    "for i in content:\n",
    "    print(i)"
   ]
  },
  {
   "cell_type": "code",
   "execution_count": null,
   "metadata": {},
   "outputs": [],
   "source": []
  }
 ],
 "metadata": {
  "kernelspec": {
   "display_name": "Python 3",
   "language": "python",
   "name": "python3"
  },
  "language_info": {
   "codemirror_mode": {
    "name": "ipython",
    "version": 3
   },
   "file_extension": ".py",
   "mimetype": "text/x-python",
   "name": "python",
   "nbconvert_exporter": "python",
   "pygments_lexer": "ipython3",
   "version": "3.9.6"
  }
 },
 "nbformat": 4,
 "nbformat_minor": 2
}
